{
 "cells": [
  {
   "cell_type": "code",
   "execution_count": null,
   "id": "ddffcbd5",
   "metadata": {},
   "outputs": [],
   "source": [
    "from google import genai\n",
    "from pathlib import Path\n",
    "import os, io\n",
    "\n",
    "client = genai.Client(api_key=os.getenv(\"GEMINI_API_KEY\"))"
   ]
  },
  {
   "cell_type": "code",
   "execution_count": null,
   "id": "004d4f62",
   "metadata": {},
   "outputs": [],
   "source": [
    "path1 = Path(r\"../RAG from Scratch/data/Papers/2501.12948v1DeepSeek R1.pdf\")\n",
    "path2 = Path(r\"../RAG from Scratch/data/Papers/DeepSeek_V3.pdf\")\n",
    "\n",
    "# Retrieve and upload both PDFs using the File API\n",
    "doc_data_1 = io.BytesIO(path1.read_bytes())\n",
    "doc_data_2 = io.BytesIO(path2.read_bytes())\n",
    "\n",
    "sample_pdf_1 = client.files.upload(\n",
    "  file=doc_data_1,\n",
    "  config=dict(mime_type='application/pdf'))\n",
    "\n",
    "sample_pdf_2 = client.files.upload(\n",
    "  file=doc_data_2,\n",
    "  config=dict(mime_type='application/pdf'))\n"
   ]
  },
  {
   "cell_type": "code",
   "execution_count": null,
   "id": "dc70efd9",
   "metadata": {},
   "outputs": [],
   "source": [
    "prompt = \"What are the key differences between DeepSeek-V3 and DeepSeek-R1?\"\n",
    "\n",
    "response = client.models.generate_content(\n",
    "  model=\"gemini-2.5-flash\",\n",
    "  contents=[sample_pdf_1, sample_pdf_2, prompt])\n"
   ]
  },
  {
   "cell_type": "code",
   "execution_count": null,
   "id": "4cbf519e",
   "metadata": {},
   "outputs": [],
   "source": [
    "from IPython.display import Markdown\n",
    "Markdown(response.text)"
   ]
  },
  {
   "cell_type": "code",
   "execution_count": null,
   "id": "6941314e",
   "metadata": {},
   "outputs": [],
   "source": []
  }
 ],
 "metadata": {
  "kernelspec": {
   "display_name": "Python 3",
   "language": "python",
   "name": "python3"
  },
  "language_info": {
   "codemirror_mode": {
    "name": "ipython",
    "version": 3
   },
   "file_extension": ".py",
   "mimetype": "text/x-python",
   "name": "python",
   "nbconvert_exporter": "python",
   "pygments_lexer": "ipython3",
   "version": "3.10.6"
  }
 },
 "nbformat": 4,
 "nbformat_minor": 5
}
