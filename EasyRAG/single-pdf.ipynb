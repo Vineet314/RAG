{
 "cells": [
  {
   "cell_type": "code",
   "execution_count": 10,
   "id": "936146bf",
   "metadata": {},
   "outputs": [],
   "source": [
    "from IPython.display import Markdown"
   ]
  },
  {
   "cell_type": "code",
   "execution_count": 13,
   "id": "67dd6a4f",
   "metadata": {},
   "outputs": [],
   "source": [
    "from google import genai\n",
    "from google.genai import types\n",
    "from pathlib import Path\n",
    "import os\n",
    "\n",
    "client = genai.Client(api_key=os.getenv(\"GEMINI_API_KEY\"))\n",
    "\n",
    "# Retrieve and encode the PDF byte\n",
    "file_data = Path(r\"C:\\Users\\Vineet\\Downloads\\gnsr.pdf\").read_bytes()\n"
   ]
  },
  {
   "cell_type": "code",
   "execution_count": 15,
   "id": "a083fffb",
   "metadata": {},
   "outputs": [
    {
     "data": {
      "text/plain": [
       "7.639060974121094"
      ]
     },
     "execution_count": 15,
     "metadata": {},
     "output_type": "execute_result"
    }
   ],
   "source": [
    "len(file_data)/(1024*1024)"
   ]
  },
  {
   "cell_type": "code",
   "execution_count": 7,
   "id": "df26ea62",
   "metadata": {},
   "outputs": [],
   "source": [
    "prompt = \"What is rule 15.24?\""
   ]
  },
  {
   "cell_type": "code",
   "execution_count": null,
   "id": "5b044aba",
   "metadata": {},
   "outputs": [],
   "source": [
    "response = client.models.generate_content(\n",
    "  model=\"gemini-2.5-flash\",\n",
    "  contents=[types.Part.from_bytes(data=file_data, mime_type='application/pdf'),prompt])"
   ]
  },
  {
   "cell_type": "code",
   "execution_count": 11,
   "id": "97ebdda5",
   "metadata": {},
   "outputs": [
    {
     "data": {
      "text/markdown": [
       "Rule 15.24 in the provided document, under Chapter XV (Permanent Way and Works), is titled \"Time of running\" and states the following:\n",
       "\n",
       "**15.24 Time of running:-** A lorry shall ordinarily be run only by day and when the weather is sufficiently clear for a signal to be distinctly seen from an adequate distance, which shall never be less than 800 metres.\n",
       "\n",
       "There is also a subsidiary rule related to this:\n",
       "\n",
       "**S.R. 15.24/1 : Removal of a lorry from the line when visibility is reduced:-** If the visibility becomes reduced to less than 800 metres due to storm, rain, fog or any other cause while a lorry is on the line, the lorry must be immediately removed from the line unless running under block protection."
      ],
      "text/plain": [
       "<IPython.core.display.Markdown object>"
      ]
     },
     "execution_count": 11,
     "metadata": {},
     "output_type": "execute_result"
    }
   ],
   "source": [
    "Markdown(response.text)"
   ]
  },
  {
   "cell_type": "code",
   "execution_count": null,
   "id": "1c9c464f",
   "metadata": {},
   "outputs": [],
   "source": []
  }
 ],
 "metadata": {
  "kernelspec": {
   "display_name": "Python 3",
   "language": "python",
   "name": "python3"
  },
  "language_info": {
   "codemirror_mode": {
    "name": "ipython",
    "version": 3
   },
   "file_extension": ".py",
   "mimetype": "text/x-python",
   "name": "python",
   "nbconvert_exporter": "python",
   "pygments_lexer": "ipython3",
   "version": "3.10.6"
  }
 },
 "nbformat": 4,
 "nbformat_minor": 5
}
