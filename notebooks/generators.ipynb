{
 "cells": [
  {
   "cell_type": "code",
   "execution_count": 1,
   "id": "0f47ca46",
   "metadata": {},
   "outputs": [],
   "source": [
    "from openai import OpenAI\n",
    "from google import genai\n",
    "import os"
   ]
  },
  {
   "cell_type": "code",
   "execution_count": 2,
   "id": "999344bb",
   "metadata": {},
   "outputs": [],
   "source": [
    "gclient = genai.Client(api_key=os.getenv(\"GEMINI_API_KEY\"))\n",
    "oclient = OpenAI(api_key=os.getenv(\"API_KEY\"))"
   ]
  },
  {
   "cell_type": "code",
   "execution_count": null,
   "id": "665cf284",
   "metadata": {},
   "outputs": [
    {
     "name": "stdout",
     "output_type": "stream",
     "text": [
      "Hello! I am a large language model, trained by Google.\n"
     ]
    }
   ],
   "source": [
    "response1 = gclient.models.generate_content(model=\"gemini-2.5-flash\",contents=\"Hi, who art thou?\")\n",
    "\n",
    "print(response1.text)"
   ]
  },
  {
   "cell_type": "code",
   "execution_count": 4,
   "id": "572e63cf",
   "metadata": {},
   "outputs": [
    {
     "name": "stdout",
     "output_type": "stream",
     "text": [
      "Greetings! I am an AI language model created by OpenAI, here to assist you with your questions and tasks. How may I help thee today?\n"
     ]
    }
   ],
   "source": [
    "response2 = oclient.responses.create(model=\"gpt-4.1-nano\",input=\"Hi, who art thou?\")\n",
    "\n",
    "print(response2.output_text)"
   ]
  }
 ],
 "metadata": {
  "kernelspec": {
   "display_name": "Python 3",
   "language": "python",
   "name": "python3"
  },
  "language_info": {
   "codemirror_mode": {
    "name": "ipython",
    "version": 3
   },
   "file_extension": ".py",
   "mimetype": "text/x-python",
   "name": "python",
   "nbconvert_exporter": "python",
   "pygments_lexer": "ipython3",
   "version": "3.10.6"
  }
 },
 "nbformat": 4,
 "nbformat_minor": 5
}
