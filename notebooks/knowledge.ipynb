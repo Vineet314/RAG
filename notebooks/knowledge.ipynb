{
 "cells": [
  {
   "cell_type": "markdown",
   "id": "fac82d2a",
   "metadata": {},
   "source": [
    "This notebook is a collection of functions and code snipptes that can be used for handling the pdf files and creating the knowledge base."
   ]
  },
  {
   "cell_type": "code",
   "execution_count": null,
   "id": "865579ac",
   "metadata": {},
   "outputs": [],
   "source": [
    "def chunk_text(text: str, chunk_size: int = 1000, chunk_overlap: int = 200) -> list[str]:\n",
    "    \"\"\"\n",
    "    Splits a long text into smaller, overlapping chunks.\n",
    "\n",
    "    Args:\n",
    "        text: The input text to be chunked.\n",
    "        chunk_size: The desired size of each chunk.\n",
    "        chunk_overlap: The number of characters to overlap between chunks.\n",
    "\n",
    "    Returns:\n",
    "        A list of text chunks.\n",
    "    \"\"\"\n",
    "    chunks = []\n",
    "    start = 0\n",
    "    while start < len(text):\n",
    "        end = start + chunk_size\n",
    "        chunks.append(text[start:end])\n",
    "        start += chunk_size - chunk_overlap\n",
    "    return chunks"
   ]
  },
  {
   "cell_type": "code",
   "execution_count": null,
   "id": "3bd39a29",
   "metadata": {},
   "outputs": [],
   "source": [
    "# Example Usage\n",
    "text =\"\"\"\n",
    "    Splits a long text into smaller, overlapping chunks.\n",
    "\n",
    "    Args:\n",
    "        text: The input text to be chunked.\n",
    "        chunk_size: The desired size of each chunk.\n",
    "        chunk_overlap: The number of characters to overlap between chunks.\n",
    "\n",
    "    Returns:\n",
    "        A list of text chunks.\n",
    "    \"\"\"\n",
    "\n",
    "chunk_text(text,20,5)[:5]"
   ]
  },
  {
   "cell_type": "markdown",
   "id": "0fd123ae",
   "metadata": {},
   "source": [
    "Now to extract data from pdf files and create a knowledge base"
   ]
  },
  {
   "cell_type": "code",
   "execution_count": 18,
   "id": "765de82b",
   "metadata": {},
   "outputs": [],
   "source": [
    "import fitz, os\n",
    "data_dir = r\"..\\data\\Papers\"\n",
    "knowledge_file = r\"..\\data\\knowledge.txt\""
   ]
  },
  {
   "cell_type": "code",
   "execution_count": 17,
   "id": "d2ae132d",
   "metadata": {},
   "outputs": [],
   "source": [
    "def extract_text(papers_dir: str, out_path: str) -> str:\n",
    "    all_text = \"\"\n",
    "    for file in os.listdir(papers_dir):\n",
    "        if file.endswith(\".pdf\"):\n",
    "            filepath = os.path.join(papers_dir, file)\n",
    "            doc = fitz.open(filepath)\n",
    "            for page in doc:\n",
    "                all_text += page.get_text()\n",
    "            doc.close()\n",
    "\n",
    "    assert out_path.endswith(\".txt\"), \"Can only save to a text file\"\n",
    "    with open(out_path, 'w', encoding='utf-8') as f:\n",
    "        f.write(all_text)"
   ]
  },
  {
   "cell_type": "code",
   "execution_count": 19,
   "id": "b0a25b1f",
   "metadata": {},
   "outputs": [],
   "source": [
    "extract_text(papers_dir=data_dir, out_path=knowledge_file)"
   ]
  }
 ],
 "metadata": {
  "kernelspec": {
   "display_name": "Python 3",
   "language": "python",
   "name": "python3"
  },
  "language_info": {
   "codemirror_mode": {
    "name": "ipython",
    "version": 3
   },
   "file_extension": ".py",
   "mimetype": "text/x-python",
   "name": "python",
   "nbconvert_exporter": "python",
   "pygments_lexer": "ipython3",
   "version": "3.10.6"
  }
 },
 "nbformat": 4,
 "nbformat_minor": 5
}
