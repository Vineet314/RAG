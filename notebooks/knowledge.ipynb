{
 "cells": [
  {
   "cell_type": "markdown",
   "id": "fac82d2a",
   "metadata": {},
   "source": [
    "This notebook is a collection of functions and code snipptes that can be used for handling the pdf files and creating the knowledge base."
   ]
  },
  {
   "cell_type": "code",
   "execution_count": 1,
   "id": "865579ac",
   "metadata": {},
   "outputs": [],
   "source": [
    "def chunk_text(text: str, chunk_size: int = 1000, chunk_overlap: int = 200) -> list[str]:\n",
    "    \"\"\"\n",
    "    Splits a long text into smaller, overlapping chunks.\n",
    "\n",
    "    Args:\n",
    "        text: The input text to be chunked.\n",
    "        chunk_size: The desired size of each chunk.\n",
    "        chunk_overlap: The number of characters to overlap between chunks.\n",
    "\n",
    "    Returns:\n",
    "        A list of text chunks.\n",
    "    \"\"\"\n",
    "    chunks = []\n",
    "    start = 0\n",
    "    while start < len(text):\n",
    "        end = start + chunk_size\n",
    "        chunks.append(text[start:end])\n",
    "        start += chunk_size - chunk_overlap\n",
    "    return chunks"
   ]
  },
  {
   "cell_type": "code",
   "execution_count": null,
   "id": "3bd39a29",
   "metadata": {},
   "outputs": [
    {
     "data": {
      "text/plain": [
       "['\\n    Splits a long t',\n",
       " 'ong text into smalle',\n",
       " 'maller, overlapping ',\n",
       " 'ping chunks.\\n\\n    Ar',\n",
       " '   Args:\\n        tex']"
      ]
     },
     "execution_count": 4,
     "metadata": {},
     "output_type": "execute_result"
    }
   ],
   "source": [
    "text =\"\"\"\n",
    "    Splits a long text into smaller, overlapping chunks.\n",
    "\n",
    "    Args:\n",
    "        text: The input text to be chunked.\n",
    "        chunk_size: The desired size of each chunk.\n",
    "        chunk_overlap: The number of characters to overlap between chunks.\n",
    "\n",
    "    Returns:\n",
    "        A list of text chunks.\n",
    "    \"\"\"\n",
    "\n",
    "chunk_text(text,20,5)[:5]"
   ]
  },
  {
   "cell_type": "code",
   "execution_count": null,
   "id": "0fd123ae",
   "metadata": {},
   "outputs": [],
   "source": []
  }
 ],
 "metadata": {
  "kernelspec": {
   "display_name": "Python 3",
   "language": "python",
   "name": "python3"
  },
  "language_info": {
   "codemirror_mode": {
    "name": "ipython",
    "version": 3
   },
   "file_extension": ".py",
   "mimetype": "text/x-python",
   "name": "python",
   "nbconvert_exporter": "python",
   "pygments_lexer": "ipython3",
   "version": "3.10.6"
  }
 },
 "nbformat": 4,
 "nbformat_minor": 5
}
